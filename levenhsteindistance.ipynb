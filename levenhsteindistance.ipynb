{
 "cells": [
  {
   "cell_type": "code",
   "execution_count": 1,
   "id": "c4280403",
   "metadata": {},
   "outputs": [
    {
     "name": "stdout",
     "output_type": "stream",
     "text": [
      "Levenshtein distance between 'kitten' and 'sitting': 3\n",
      "'hello' -> 'world': 4\n",
      "'abc' -> 'def': 3\n",
      "'python' -> 'pyton': 1\n",
      "'' -> 'abc': 3\n",
      "'same' -> 'same': 0\n"
     ]
    }
   ],
   "source": [
    "def levenshtein_distance(str1, str2):\n",
    "    \"\"\"\n",
    "    Calculate the Levenshtein distance between two strings.\n",
    "    \n",
    "    Args:\n",
    "        str1 (str): First string\n",
    "        str2 (str): Second string\n",
    "    \n",
    "    Returns:\n",
    "        int: Levenshtein distance\n",
    "    \"\"\"\n",
    "    m, n = len(str1), len(str2)\n",
    "    \n",
    "    # Create a matrix to store distances\n",
    "    dp = [[0] * (n + 1) for _ in range(m + 1)]\n",
    "    \n",
    "    # Initialize base cases\n",
    "    for i in range(m + 1):\n",
    "        dp[i][0] = i  # Deletions\n",
    "    for j in range(n + 1):\n",
    "        dp[0][j] = j  # Insertions\n",
    "    \n",
    "    # Fill the matrix\n",
    "    for i in range(1, m + 1):\n",
    "        for j in range(1, n + 1):\n",
    "            if str1[i-1] == str2[j-1]:\n",
    "                # Characters match, no operation needed\n",
    "                dp[i][j] = dp[i-1][j-1]\n",
    "            else:\n",
    "                # Take minimum of three operations\n",
    "                dp[i][j] = 1 + min(\n",
    "                    dp[i-1][j],    # Deletion\n",
    "                    dp[i][j-1],    # Insertion\n",
    "                    dp[i-1][j-1]   # Substitution\n",
    "                )\n",
    "    \n",
    "    return dp[m][n]\n",
    "\n",
    "# Example usage\n",
    "str1 = \"kitten\"\n",
    "str2 = \"sitting\"\n",
    "distance = levenshtein_distance(str1, str2)\n",
    "print(f\"Levenshtein distance between '{str1}' and '{str2}': {distance}\")\n",
    "\n",
    "# More examples\n",
    "examples = [\n",
    "    (\"hello\", \"world\"),\n",
    "    (\"abc\", \"def\"),\n",
    "    (\"python\", \"pyton\"),\n",
    "    (\"\", \"abc\"),\n",
    "    (\"same\", \"same\")\n",
    "]\n",
    "\n",
    "for s1, s2 in examples:\n",
    "    dist = levenshtein_distance(s1, s2)\n",
    "    print(f\"'{s1}' -> '{s2}': {dist}\")"
   ]
  }
 ],
 "metadata": {
  "kernelspec": {
   "display_name": ".venv (3.10.12)",
   "language": "python",
   "name": "python3"
  },
  "language_info": {
   "codemirror_mode": {
    "name": "ipython",
    "version": 3
   },
   "file_extension": ".py",
   "mimetype": "text/x-python",
   "name": "python",
   "nbconvert_exporter": "python",
   "pygments_lexer": "ipython3",
   "version": "3.10.12"
  }
 },
 "nbformat": 4,
 "nbformat_minor": 5
}
